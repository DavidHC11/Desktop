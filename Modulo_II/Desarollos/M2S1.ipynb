{
  "cells": [
    {
      "cell_type": "markdown",
      "metadata": {
        "id": "2SJ6YcdDJLVq"
      },
      "source": [
        "# ¿Qué es un módulo?\n",
        "El código de computadora tiene una tendencia a crecer. Podemos decir que el código que no crece probablemente sea completamente inutilizable o este abandonado. Un código real, deseado y ampliamente utilizado se desarrolla continuamente, ya que tanto las demandas de los usuarios como las expectativas de los usuarios se desarrollan a su propio ritmo.\n",
        "\n",
        "Un código que no puede responder a las necesidades de los usuarios se olvidará rápidamente y se reemplazará instantáneamente con un código nuevo, mejor y más flexible. Se debe estar preparado para esto, y nunca pienses que tus programas están terminados por completo. La finalización es un estado de transición y generalmente pasa rápidamente, después del primer informe de error. Python en sí es un buen ejemplo de cómo actúa esta regla.\n",
        "\n",
        "El código creciente es, de hecho, un problema creciente. Un código más grande siempre significa un mantenimiento más difícil. La búsqueda de errores siempre es más fácil cuando el código es más pequeño (al igual que encontrar una rotura mecánica es más simple cuando la maquinaria es más simple y más pequeña).\n",
        "\n",
        "Además, cuando se espera que el código que se está creando sea realmente grande (puedes usar el número total de líneas de código como una medida útil, pero no muy precisa, del tamaño del código) entonces, se deseará, o más bien, habrá la necesidad de dividirlo en muchas partes, implementado en paralelo por unos cuantos, una docena, varias docenas o incluso varios cientos de desarrolladores.\n",
        "\n",
        "Por supuesto, esto no se puede hacer usando un archivo fuente grande, el cual esta siendo editado por todos los programadores al mismo tiempo. Esto seguramente conducirá a un desastre.\n",
        "\n",
        "\n",
        "\n",
        "Si se desea que dicho proyecto de software se complete con éxito, se deben tener los medios que le permitan:\n",
        "\n",
        "Se deben dividir todas las tareas entre los desarrolladores.\n",
        "Despues, unir todas las partes creadas en un todo funcional.\n",
        "Por ejemplo, un determinado proyecto se puede dividir en dos partes principales:\n",
        "\n",
        "La interfaz de usuario (la parte que se comunica con el usuario mediante widgets y una pantalla gráfica).\n",
        "La lógica (la parte que procesa los datos y produce resultados).\n",
        "Cada una de estas partes se puede (muy probablemente) dividir en otras más pequeñas, y así sucesivamente. Tal proceso a menudo se denomina descomposición.\n",
        "\n",
        "Por ejemplo, si te pidieran organizar una boda, no harías todo tu mismo: encontrarías una serie de profesionales y dividirías la tarea entre todos.\n",
        "\n",
        "¿Cómo se divide una pieza de software en partes separadas pero cooperantes? Esta es la pregunta. Módulos son la respuesta."
      ]
    },
    {
      "cell_type": "markdown",
      "metadata": {
        "id": "NxGaFYWqJWww"
      },
      "source": [
        "# ¿Cómo hacer uso de un módulo?\n",
        "El manejo de los módulos consta de dos cuestiones diferentes:\n",
        "\n",
        "* El primero (probablemente el más común) ocurre cuando se desea utilizar un módulo ya existente, escrito por otra persona o creado por el programador mismo en algún proyecto complejo: en este caso, se considera al programador como el usuario del módulo.\n",
        "* El segundo ocurre cuando se desea crear un nuevo módulo, ya sea para uso propio o para facilitar la vida de otros programadores: aquí eres el proveedor del módulo.\n",
        "\n",
        "En primer lugar, un módulo se identifica por su nombre. Si se desea utilizar cualquier módulo, se necesita saber su nombre. Se entrega una cantidad (bastante grande) de módulos junto con Python. Se puede pensar en ellos como una especie de \"equipo extra de Python\".\n",
        "\n",
        "Todos estos módulos, junto con las funciones integradas, forman la Biblioteca estándar de Python - un tipo especial de biblioteca donde los módulos desempeñan el papel de libros (incluso podemos decir que las carpetas desempeñan el papel de estanterías). Si deseas ver la lista completa de todos los \"volúmenes\" recopilados en esa biblioteca, se puede encontrar aquí: https://docs.python.org/3/library/index.html.\n",
        "\n",
        "Cada módulo consta de entidades (como un libro consta de capítulos). Estas entidades pueden ser funciones, variables, constantes, clases y objetos. Si se sabe cómo acceder a un módulo en particular, se puede utilizar cualquiera de las entidades que almacena.\n",
        "\n",
        "Comencemos la discusión con uno de los módulos más utilizados, el que lleva por nombre math. Su nombre habla por sí mismo: el módulo contiene una rica colección de entidades (no solo funciones) que permiten a un programador implementar efectivamente cálculos que exigen el uso de funciones matemáticas, como sen() o log()."
      ]
    },
    {
      "cell_type": "markdown",
      "metadata": {
        "id": "VXymYeHdJ0fF"
      },
      "source": [
        "# Importando un módulo\n",
        "Para que un módulo sea utilizable, hay que importarlo (piensa en ello como sacar un libro del estante). La importación de un módulo se realiza mediante una instrucción llamada import. Nota: import es también una palabra reservada (con todas sus implicaciones).\n",
        "\n",
        "upongamos que deseas utilizar dos entidades proporcionadas por el módulo math:\n",
        "\n",
        "* Un símbolo (constante) que representa un valor preciso (tan preciso como sea posible usando aritmética de punto flotante doble) de π (aunque usar una letra griega para nombrar una variable es totalmente posible en Python, el símbolo se llama pi: es una solución más conveniente, especialmente para esa parte del mundo que ni tiene ni va a usar un teclado griego).\n",
        "* Una función llamada sin() (el equivalente informático de la función matemática sine).\n",
        "\n",
        "\n",
        "Ambas entidades están disponibles a través del módulo math, pero la forma en que se pueden usar depende en gran medida de cómo se haya realizado la importación.\n",
        "\n",
        "La forma más sencilla de importar un módulo en particular es usar la instrucción de importación de la siguiente manera:\n",
        "\n",
        "import math\n",
        "\n",
        "La cláusula contiene:\n",
        "\n",
        "* La palabra reservada import.\n",
        "* El nombre del módulo que se va a importar.\n",
        "\n",
        "\n",
        "La instrucción puede colocarse en cualquier parte del código, pero debe colocarse antes del primer uso de cualquiera de las entidades del módulo.\n",
        "\n",
        "\n",
        "Si se desea (o se tiene que) importar más de un módulo, se puede hacer repitiendo la cláusula import, o listando los módulos despues de la palabra reservada import, por ejemplo:\n",
        "\n",
        "import math, sys\n",
        "\n",
        "La instrucción importa dos módulos, primero uno llamado math y luego un segundo llamado sys.\n",
        "\n",
        "La lista de módulos puede ser arbitrariamente larga.\n",
        "\n",
        "# Namespace\n",
        "\n",
        "Un namespace es un espacio (entendido en un contexto no físico) en el que existen algunos nombres y los nombres no entran en conflicto entre sí (es decir, no hay dos objetos diferentes con el mismo nombre). Podemos decir que cada grupo social es un namespace - el grupo tiende a nombrar a cada uno de sus miembros de una manera única (por ejemplo, los padres no darán a sus hijos los mismos nombres).\n",
        "\n",
        "Esta singularidad se puede lograr de muchas maneras, por ejemplo, mediante el uso de apodos junto con los nombres (funcionará dentro de un grupo pequeño como una clase en una escuela) o asignando identificadores especiales a todos los miembros del grupo (el Seguro Social de EE. UU. El número es un buen ejemplo de tal práctica).\n",
        "\n",
        "Dentro de un determinado namespace, cada nombre debe permanecer único. Esto puede significar que algunos nombres pueden desaparecer cuando cualquier otra entidad de un nombre ya conocido ingresa al namespace. Mostraremos cómo funciona y cómo controlarlo, pero primero, volvamos a las importaciones.\n",
        "\n",
        "Si el módulo de un nombre especificado existe y es accesible (un módulo es de hecho un archivo fuente de Python), Python importa su contenido, se hacen conocidos todos los nombres definidos en el módulo, pero no ingresan al namespace del código.\n",
        "\n",
        "Esto significa que puede tener sus propias entidades llamadas sin o pi y no serán afectadas en alguna manera por el import.\n",
        "\n",
        "n este punto, es posible que te estes preguntando cómo acceder al pi el cual viene del módulo math.\n",
        "\n",
        "Para hacer esto, se debe de mandar llamar el pi con el su nombre en el módulo original.\n",
        "\n",
        "Observa el fragmento a continuación, esta es la forma en que se habilitan los nombres de pi y sin con el nombre de su módulo de origen:\n"
      ]
    },
    {
      "cell_type": "code",
      "execution_count": null,
      "metadata": {
        "id": "sLAJLGfeHpTa"
      },
      "outputs": [],
      "source": [
        "import math\n",
        "\n",
        "\n",
        "math.sin()"
      ]
    },
    {
      "cell_type": "code",
      "execution_count": null,
      "metadata": {
        "colab": {
          "base_uri": "https://localhost:8080/"
        },
        "id": "RRBT3SefkKgL",
        "outputId": "f5379ef3-03b5-465a-d93d-6f978b670ae9"
      },
      "outputs": [
        {
          "data": {
            "text/plain": [
              "3.141592653589793"
            ]
          },
          "execution_count": 3,
          "metadata": {},
          "output_type": "execute_result"
        }
      ],
      "source": [
        "math.pi"
      ]
    },
    {
      "cell_type": "markdown",
      "metadata": {
        "id": "belQN1KNL6dL"
      },
      "source": [
        "Es sencillo, se pone:\n",
        "\n",
        "* El nombre del módulo (math).\n",
        "* Un punto.\n",
        "* Y el nombre de la entidad (pi).\n",
        "\n",
        "Tal forma indica claramente el namespace en el que existe el nombre.\n",
        "\n",
        "Nota: el uso de esto es obligatorio si un módulo ha sido importado con la instrucción import. No importa si alguno de los nombres del código y del namespace del módulo están en conflicto o no.\n"
      ]
    },
    {
      "cell_type": "code",
      "execution_count": null,
      "metadata": {
        "colab": {
          "base_uri": "https://localhost:8080/"
        },
        "id": "hqY_oeSCLqgw",
        "outputId": "e4f54b36-27bc-4752-c7b3-128e0063322c"
      },
      "outputs": [
        {
          "name": "stdout",
          "output_type": "stream",
          "text": [
            "1.0\n"
          ]
        }
      ],
      "source": [
        "print(math.sin(math.pi/2))"
      ]
    },
    {
      "cell_type": "markdown",
      "metadata": {
        "id": "d63LlLdhML7W"
      },
      "source": [
        "Se ha definido una variable y función propia para pi y sin respectivamente, y se emplean junto con los de la librería math."
      ]
    },
    {
      "cell_type": "code",
      "execution_count": null,
      "metadata": {
        "colab": {
          "base_uri": "https://localhost:8080/"
        },
        "id": "CSSr-LIYMEaJ",
        "outputId": "34ac7c6c-54f4-494e-eeba-c3c3dbc5126b"
      },
      "outputs": [
        {
          "name": "stdout",
          "output_type": "stream",
          "text": [
            "0.99999999\n",
            "1.0\n"
          ]
        }
      ],
      "source": [
        "import math\n",
        "\n",
        "def sin(x):\n",
        "    if 2 * x == pi:\n",
        "        return 0.99999999\n",
        "    else:\n",
        "        return None\n",
        "\n",
        "pi = 3.14\n",
        "\n",
        "print(sin(pi/2))\n",
        "print(math.sin(math.pi/2))"
      ]
    },
    {
      "cell_type": "markdown",
      "metadata": {
        "id": "91LlP4oSMklE"
      },
      "source": [
        "En el segundo método, la sintaxis del import señala con precisión qué entidad (o entidades) del módulo son aceptables en el código:\n",
        "\n",
        "from math import pi\n",
        "\n",
        "La instrucción consta de los siguientes elementos:\n",
        "\n",
        "* La palabra reservada from.\n",
        "* El nombre del módulo a ser (selectivamente) importado.\n",
        "* La palabra reservada import.\n",
        "* El nombre o lista de nombres de la entidad o entidades las cuales estan siendo importadas al namespace.\n",
        "\n",
        "La instrucción tiene este efecto:\n",
        "\n",
        "* Las entidades listadas son las unicas que son importadas del módulo indicado.\n",
        "* Los nombres de las entidades importadas pueden ser accedidas dentro del programa.\n",
        "\n",
        "Nota: no se importan otras entidades, únicamente las especificadas. Además, no se pueden importar entidades adicionales utilizando una línea como esta:\n"
      ]
    },
    {
      "cell_type": "code",
      "execution_count": null,
      "metadata": {
        "colab": {
          "base_uri": "https://localhost:8080/"
        },
        "id": "2urqnFarMzN9",
        "outputId": "2673ebe5-3ea1-4772-8b80-ce99a6fb23be"
      },
      "outputs": [
        {
          "data": {
            "text/plain": [
              "3.141592653589793"
            ]
          },
          "execution_count": 7,
          "metadata": {},
          "output_type": "execute_result"
        }
      ],
      "source": [
        "from math import pi\n",
        "\n",
        "pi"
      ]
    },
    {
      "cell_type": "code",
      "execution_count": null,
      "metadata": {
        "colab": {
          "base_uri": "https://localhost:8080/"
        },
        "id": "4Yhd88LgMVXa",
        "outputId": "7c129b88-cd02-43db-c249-e4f05dde420c"
      },
      "outputs": [
        {
          "name": "stdout",
          "output_type": "stream",
          "text": [
            "2.718281828459045\n"
          ]
        },
        {
          "data": {
            "text/plain": [
              "3.141592653589793"
            ]
          },
          "execution_count": 8,
          "metadata": {},
          "output_type": "execute_result"
        }
      ],
      "source": [
        "print(math.e)\n",
        "\n",
        "pi"
      ]
    },
    {
      "cell_type": "markdown",
      "metadata": {
        "id": "8fezHpCsNBNf"
      },
      "source": [
        "Reescribamos el código anterior para incorporar esta nueva técnica.\n",
        "\n",
        "Aquí esta:\n",
        "\n"
      ]
    },
    {
      "cell_type": "code",
      "execution_count": null,
      "metadata": {
        "colab": {
          "base_uri": "https://localhost:8080/"
        },
        "id": "sw3L14iVMwHP",
        "outputId": "75db24dd-94b9-416e-9b3f-da47c81bd2e6"
      },
      "outputs": [
        {
          "name": "stdout",
          "output_type": "stream",
          "text": [
            "1.0\n"
          ]
        }
      ],
      "source": [
        "from math import sin, pi\n",
        "\n",
        "print(sin(pi/2))"
      ]
    },
    {
      "cell_type": "code",
      "execution_count": null,
      "metadata": {
        "colab": {
          "base_uri": "https://localhost:8080/"
        },
        "id": "21_6t7EDNGew",
        "outputId": "1014ef48-84b6-4308-9b93-537398c8befe"
      },
      "outputs": [
        {
          "name": "stdout",
          "output_type": "stream",
          "text": [
            "1.0\n",
            "0.99999999\n"
          ]
        }
      ],
      "source": [
        "from math import sin, pi\n",
        "\n",
        "print(sin(pi/2))\n",
        "\n",
        "pi = 3.14\n",
        "\n",
        "def sin(x):\n",
        "    if 2 * x == pi:\n",
        "        return 0.99999999\n",
        "    else:\n",
        "        return None\n",
        "\n",
        "print(sin(pi/2))"
      ]
    },
    {
      "cell_type": "markdown",
      "metadata": {
        "id": "wY6gFAxWNKLG"
      },
      "source": [
        "Observa el código en el editor. Analízalo cuidadosamente:\n",
        "\n",
        "* La línea 01: lleva a cabo la importación selectiva.\n",
        "* La línea 03: hace uso de las entidades importadas y obtiene el resultado esperado (1.0).\n",
        "* La línea 05 a la 11: redefine el significado de pi y sin - en efecto, reemplazan las definiciones originales (importadas) dentro del namespace del código.\n",
        "* La línea 13: retorna 0.99999999, lo cual confirma nuestras conclusiones.\n"
      ]
    },
    {
      "cell_type": "markdown",
      "metadata": {
        "id": "vXnJyviaNagW"
      },
      "source": [
        "Aquí, se ha invertido la secuencia de las operaciones del código:\n",
        "\n",
        "* Las líneas del 01 al 07: definen nuestro propio pi y sin.\n",
        "* La línea 09: hace uso de ellas ( 0.99999999 aparece en pantalla).\n",
        "* La línea 12: lleva a cabo la importación - los símbolos importados reemplazan sus definiciones anteriores dentro del namespace.\n",
        "* La línea 14: retorna 1.0 como resultado."
      ]
    },
    {
      "cell_type": "code",
      "execution_count": null,
      "metadata": {
        "colab": {
          "base_uri": "https://localhost:8080/"
        },
        "id": "UyzAIb97NXXy",
        "outputId": "b402deae-b488-48e8-d191-b87c10f3a384"
      },
      "outputs": [
        {
          "name": "stdout",
          "output_type": "stream",
          "text": [
            "0.99999999\n",
            "1.0\n"
          ]
        }
      ],
      "source": [
        "pi = 3.14\t# linea 01\n",
        "\n",
        "def sin(x):\n",
        "    if 2 * x == pi:\n",
        "        return 0.99999999\n",
        "    else:\n",
        "        return None\t# linea 07\n",
        "\n",
        "print(sin(pi/2))\t# linea 09\n",
        "\n",
        "\n",
        "from math import sin, pi\t# linea 12\n",
        "\n",
        "print(sin(pi/2))\t# linea 14"
      ]
    },
    {
      "cell_type": "markdown",
      "metadata": {
        "id": "uEfeDqU3NpoC"
      },
      "source": [
        "En el tercer método, la sintaxis del import es una forma más agresiva que la presentada anteriormente:\n",
        "~~~~\n",
        "from module import *\n",
        "~~~~\n",
        "\n",
        "Como puedes ver, el nombre de una entidad (o la lista de nombres de entidades) se reemplaza con un solo asterisco (*).\n",
        "\n",
        "Tal instrucción importa todas las entidades del módulo indicado.\n",
        "\n",
        "¿Es conveniente? Sí, lo es, ya que libera del deber de enumerar todos los nombres que se necesiten.\n",
        "\n",
        "¿Es inseguro? Sí, a menos que conozca todos los nombres proporcionados por el módulo, es posible que no puedas evitar conflictos de nombres. Trata esto como una solución temporal e intenta no usarlo en un código regular."
      ]
    },
    {
      "cell_type": "markdown",
      "metadata": {
        "id": "O3c19k2XN1Sr"
      },
      "source": [
        "# Importando un módulo: la palabra reservada as\n",
        "Si se importa un módulo y no se esta conforme con el nombre del módulo en particular (por ejemplo, sí es el mismo que el de una de sus entidades ya definidas) puede darsele otro nombre: esto se llama aliasing o renombrado.\n",
        "\n",
        "Aliasing (renombrado) hace que el módulo se identifique con un nombre diferente al original.\n",
        "\n",
        "La creación de un alias se realiza junto con la importación del módulo, y exige la siguiente forma de la instrucción import:\n",
        "\n",
        "~~~~\n",
        "import module as alias\n",
        "~~~~~\n",
        "\n",
        "el \"module\" identifica el nombre del módulo original mientras que el \"alias\" es el nombre que se desea usar en lugar del original.\n",
        "\n",
        "Nota: as es una palabra reservada."
      ]
    },
    {
      "cell_type": "markdown",
      "metadata": {
        "id": "FKOElzU1OIap"
      },
      "source": [
        "# Importando un Módulo\n",
        "Si necesitas cambiar la palabra math, puedes introducir tu propio nombre, como en el ejemplo:\n",
        "\n",
        "~~~~\n",
        "import math as m\n",
        "print(m.sin(m.pi/2))\n",
        "~~~~~\n",
        "\n",
        "Nota: después de la ejecución exitosa de una importación con alias, el nombre original del módulo se vuelve inaccesible y no debe ser utilizado.\n",
        "\n",
        "\n",
        "A su vez, cuando usa la variante from module import name y se necesita cambiar el nombre de la entidad, se crea un alias para la entidad. Esto hará que el nombre sea reemplazado por el alias que se elija.\n",
        "\n",
        "Así es como se puede hacer:\n",
        "\n",
        "~~~~\n",
        "from module import nombre as alias\n",
        "~~~~\n",
        "\n",
        "Como anteriormente, el nombre original (sin alias) se vuelve inaccesible.\n",
        "\n",
        "La frase nombre as alias puede repetirse: emplea comas para separar las frases, como a continuación:\n",
        "~~~~\n",
        "from module import n as a, m as b, o as c\n",
        "~~~~\n",
        "\n",
        "El ejemplo puede parecer un poco extraño, pero funciona:"
      ]
    },
    {
      "cell_type": "code",
      "execution_count": null,
      "metadata": {
        "colab": {
          "base_uri": "https://localhost:8080/"
        },
        "id": "yyRdlRMPNuxD",
        "outputId": "6ddda510-259b-4189-bd3a-cfcfb010097b"
      },
      "outputs": [
        {
          "name": "stdout",
          "output_type": "stream",
          "text": [
            "1.0\n"
          ]
        }
      ],
      "source": [
        "import math as m\n",
        "\n",
        "print(m.sin(m.pi/2))"
      ]
    },
    {
      "cell_type": "code",
      "execution_count": null,
      "metadata": {
        "colab": {
          "base_uri": "https://localhost:8080/"
        },
        "id": "Jnk47ShfOjAx",
        "outputId": "e161afae-a045-464a-a8e4-a8da631e08a2"
      },
      "outputs": [
        {
          "name": "stdout",
          "output_type": "stream",
          "text": [
            "1.0\n"
          ]
        }
      ],
      "source": [
        "from math import pi as PI, sin as sine\n",
        "\n",
        "print(sine(PI/2))"
      ]
    },
    {
      "cell_type": "markdown",
      "metadata": {
        "id": "QfFs4EIl7ifJ"
      },
      "source": [
        "## Trabajando con módulos estándar\n",
        "Antes de comenzar a revisar algunos módulos estándar de Python, veamos la función dir(). No tiene nada que ver con el comando dir de las terminales de Windows o Unix. El comando dir() no muestra el contenido de un directorio o carpeta de disco, pero no se puede negar que hace algo similar: puede revelar todos los nombres proporcionados a través de un módulo en particular.\n",
        "\n",
        "Hay una condición: el módulo debe haberse importado previamente como un todo (es decir, utilizar la instrucción import module - from module no es suficiente).\n",
        "\n",
        "La función devuelve una lista ordenada alfabéticamente la cual contiene todos los nombres de las entidades disponibles en el módulo. \n",
        "\n",
        "Nota: Si el nombre del módulo tiene un alias, debe usar el alias, no el nombre original.\n",
        "\n",
        "Usar la función dentro de un script normal no tiene mucho sentido, pero aún así, es posible.\n",
        "\n",
        "\n",
        "Por ejemplo, se puede ejecutar el siguiente código para imprimir los nombres de todas las entidades dentro del módulo math:"
      ]
    },
    {
      "cell_type": "code",
      "execution_count": null,
      "metadata": {
        "id": "AcgYnfICnwQ0"
      },
      "outputs": [],
      "source": [
        "m.sin?"
      ]
    },
    {
      "cell_type": "code",
      "execution_count": null,
      "metadata": {
        "colab": {
          "base_uri": "https://localhost:8080/"
        },
        "id": "B1LMTk0e7u8W",
        "outputId": "56cdb4f6-a0c5-4ab6-ac1e-63376f112b72"
      },
      "outputs": [
        {
          "data": {
            "text/plain": [
              "['BooleanDtype',\n",
              " 'Categorical',\n",
              " 'CategoricalDtype',\n",
              " 'CategoricalIndex',\n",
              " 'DataFrame',\n",
              " 'DateOffset',\n",
              " 'DatetimeIndex',\n",
              " 'DatetimeTZDtype',\n",
              " 'ExcelFile',\n",
              " 'ExcelWriter',\n",
              " 'Float64Index',\n",
              " 'Grouper',\n",
              " 'HDFStore',\n",
              " 'Index',\n",
              " 'IndexSlice',\n",
              " 'Int16Dtype',\n",
              " 'Int32Dtype',\n",
              " 'Int64Dtype',\n",
              " 'Int64Index',\n",
              " 'Int8Dtype',\n",
              " 'Interval',\n",
              " 'IntervalDtype',\n",
              " 'IntervalIndex',\n",
              " 'MultiIndex',\n",
              " 'NA',\n",
              " 'NaT',\n",
              " 'NamedAgg',\n",
              " 'Period',\n",
              " 'PeriodDtype',\n",
              " 'PeriodIndex',\n",
              " 'RangeIndex',\n",
              " 'Series',\n",
              " 'SparseDtype',\n",
              " 'StringDtype',\n",
              " 'Timedelta',\n",
              " 'TimedeltaIndex',\n",
              " 'Timestamp',\n",
              " 'UInt16Dtype',\n",
              " 'UInt32Dtype',\n",
              " 'UInt64Dtype',\n",
              " 'UInt64Index',\n",
              " 'UInt8Dtype',\n",
              " '__builtins__',\n",
              " '__cached__',\n",
              " '__doc__',\n",
              " '__docformat__',\n",
              " '__file__',\n",
              " '__getattr__',\n",
              " '__git_version__',\n",
              " '__loader__',\n",
              " '__name__',\n",
              " '__package__',\n",
              " '__path__',\n",
              " '__spec__',\n",
              " '__version__',\n",
              " '_config',\n",
              " '_hashtable',\n",
              " '_is_numpy_dev',\n",
              " '_lib',\n",
              " '_libs',\n",
              " '_np_version_under1p16',\n",
              " '_np_version_under1p17',\n",
              " '_np_version_under1p18',\n",
              " '_testing',\n",
              " '_tslib',\n",
              " '_typing',\n",
              " '_version',\n",
              " 'api',\n",
              " 'array',\n",
              " 'arrays',\n",
              " 'bdate_range',\n",
              " 'compat',\n",
              " 'concat',\n",
              " 'core',\n",
              " 'crosstab',\n",
              " 'cut',\n",
              " 'date_range',\n",
              " 'describe_option',\n",
              " 'errors',\n",
              " 'eval',\n",
              " 'factorize',\n",
              " 'get_dummies',\n",
              " 'get_option',\n",
              " 'infer_freq',\n",
              " 'interval_range',\n",
              " 'io',\n",
              " 'isna',\n",
              " 'isnull',\n",
              " 'json_normalize',\n",
              " 'lreshape',\n",
              " 'melt',\n",
              " 'merge',\n",
              " 'merge_asof',\n",
              " 'merge_ordered',\n",
              " 'notna',\n",
              " 'notnull',\n",
              " 'offsets',\n",
              " 'option_context',\n",
              " 'options',\n",
              " 'pandas',\n",
              " 'period_range',\n",
              " 'pivot',\n",
              " 'pivot_table',\n",
              " 'plotting',\n",
              " 'qcut',\n",
              " 'read_clipboard',\n",
              " 'read_csv',\n",
              " 'read_excel',\n",
              " 'read_feather',\n",
              " 'read_fwf',\n",
              " 'read_gbq',\n",
              " 'read_hdf',\n",
              " 'read_html',\n",
              " 'read_json',\n",
              " 'read_orc',\n",
              " 'read_parquet',\n",
              " 'read_pickle',\n",
              " 'read_sas',\n",
              " 'read_spss',\n",
              " 'read_sql',\n",
              " 'read_sql_query',\n",
              " 'read_sql_table',\n",
              " 'read_stata',\n",
              " 'read_table',\n",
              " 'reset_option',\n",
              " 'set_eng_float_format',\n",
              " 'set_option',\n",
              " 'show_versions',\n",
              " 'test',\n",
              " 'testing',\n",
              " 'timedelta_range',\n",
              " 'to_datetime',\n",
              " 'to_numeric',\n",
              " 'to_pickle',\n",
              " 'to_timedelta',\n",
              " 'tseries',\n",
              " 'unique',\n",
              " 'util',\n",
              " 'value_counts',\n",
              " 'wide_to_long']"
            ]
          },
          "execution_count": 20,
          "metadata": {},
          "output_type": "execute_result"
        }
      ],
      "source": [
        "dir(pd)"
      ]
    },
    {
      "cell_type": "markdown",
      "metadata": {
        "id": "TCJ1Gi4G8O2f"
      },
      "source": [
        "¿Has notado los nombres extraños que comienzan con __ al inicio de la lista? Se hablará más sobre ellos cuando hablemos sobre los problemas relacionados con la escritura de módulos propios.\n",
        "\n",
        "Algunos de los nombres pueden traer recuerdos de las lecciones de matemáticas, y probablemente no tendrás ningún problema en adivinar su significado.\n",
        "\n",
        "El emplear la función dir() dentro de un código puede no parecer muy útil; por lo general, se desea conocer el contenido de un módulo en particular antes de escribir y ejecutar el código.\n",
        "\n",
        "Afortunadamente, se puede ejecutar la función directamente en la consola de Python (IDLE), sin necesidad de escribir y ejecutar un script por separado."
      ]
    },
    {
      "cell_type": "markdown",
      "metadata": {
        "id": "4L2exVRY8W7R"
      },
      "source": [
        "## Funciones seleccionadas del módulo math\n",
        "Comencemos con una vista previa de algunas de las funciones proporcionadas por el módulo math.\n",
        "\n",
        "El primer grupo de funciones de módulo math están relacionadas con trigonometría:\n",
        "\n",
        "* sin(x) → el seno de x.\n",
        "* cos(x) → el coseno de x.\n",
        "* tan(x) → la tangente de x.\n",
        "\n",
        "Todas estas funciones toman un argumento (una medida de ángulo expresada en radianes) y devuelven el resultado apropiado (ten cuidado con tan() - no todos los argumentos son aceptados).\n",
        "\n",
        "También están sus versiones inversas:\n",
        "\n",
        "* asin(x) → el arcoseno de x.\n",
        "* acos(x) → el arcocoseno de x.\n",
        "* atan(x) → el arcotangente de x.\n",
        "\n",
        "Estas funciones toman un argumento (verifica que sea correcto) y devuelven una medida de un ángulo en radianes.\n",
        "\n",
        "\n",
        "Para trabajar eficazmente con mediciones de ángulos, el módulo math proporciona las siguientes entidades:\n",
        "\n",
        "* pi → una constante con un valor que es una aproximación de π.\n",
        "* radians(x) → una función que convierte x de grados a radianes.\n",
        "* degrees(x) → actuando en el otro sentido (de radianes a grados).\n",
        "\n",
        "Además de las funciones circulares (enumeradas anteriormente), el módulo math también contiene un conjunto de sus análogos hiperbólicos:\n",
        "\n",
        "* sinh(x) → el seno hiperbólico.\n",
        "* cosh(x) → el coseno hiperbólico.\n",
        "* tanh(x) → la tangente hiperbólico.\n",
        "* asinh(x) → el arcoseno hiperbólico.\n",
        "* acosh(x) → el arcocoseno hiperbólico.\n",
        "* atanh(x) → el arcotangente hiperbólico.\n",
        "\n"
      ]
    },
    {
      "cell_type": "code",
      "execution_count": null,
      "metadata": {
        "colab": {
          "base_uri": "https://localhost:8080/"
        },
        "id": "-H9OdP9-7wm7",
        "outputId": "87554c25-dbe8-4993-8c33-0523ac63f8ab"
      },
      "outputs": [
        {
          "name": "stdout",
          "output_type": "stream",
          "text": [
            "True\n",
            "True\n",
            "True\n",
            "True\n"
          ]
        }
      ],
      "source": [
        "from math import pi, radians, degrees, sin, cos, tan, asin\n",
        "\n",
        "ad = 90\n",
        "ar = radians(ad)\n",
        "ad = degrees(ar)\n",
        "\n",
        "print(ad == 90.)\n",
        "print(ar == pi / 2.)\n",
        "print(sin(ar) / cos(ar) == tan(ar))\n",
        "print(asin(sin(ar)) == ar)"
      ]
    },
    {
      "cell_type": "markdown",
      "metadata": {
        "id": "IVg-tyJv9AV1"
      },
      "source": [
        "Existe otro grupo de las funciones math relacionadas con la exponenciación:\n",
        "\n",
        "* e → una constante con un valor que es una aproximación del número de Euler (e).\n",
        "* exp(x) → encontrar el valor de ex.\n",
        "* log(x) → el logaritmo natural de x.\n",
        "* log(x, b) → el logaritmo de x con base b.\n",
        "* log10(x) → el logaritmo decimal de x (más preciso que log(x, 10)).\n",
        "* log2(x) → el logaritmo binario de x (más preciso que log(x, 2)).\n",
        "Nota: la función pow():\n",
        "\n",
        "* pow(x, y) → encontrar el valor de xy (toma en cuenta los dominios)."
      ]
    },
    {
      "cell_type": "code",
      "execution_count": null,
      "metadata": {
        "colab": {
          "base_uri": "https://localhost:8080/"
        },
        "id": "t2Qt8IM481I0",
        "outputId": "ddb5d34f-368c-4e2e-c4af-ef82884aabb1"
      },
      "outputs": [
        {
          "name": "stdout",
          "output_type": "stream",
          "text": [
            "True\n",
            "True\n",
            "True\n"
          ]
        }
      ],
      "source": [
        "from math import e, exp, log\n",
        "\n",
        "print(pow(e, 1) == exp(log(e)))\n",
        "print(pow(2, 2) == exp(2 * log(2)))\n",
        "print(log(e, e) == exp(0))"
      ]
    },
    {
      "cell_type": "markdown",
      "metadata": {
        "id": "bhzlKecG9Qgj"
      },
      "source": [
        "El último grupo consta de algunas funciones de propósito general como:\n",
        "\n",
        "* ceil(x) → devuelve el entero más pequeño mayor o igual que x.\n",
        "* floor(x) → el entero más grande menor o igual que x.\n",
        "* trunc(x) → el valor de x truncado a un entero (ten cuidado, no es equivalente a ceil o floor).\n",
        "* factorial(x) → devuelve x! (x tiene que ser un valor entero y no negativo).\n",
        "* hypot(x, y) → devuelve la longitud de la hipotenusa de un triángulo rectángulo con las longitudes de los catetos iguales a x e y (lo mismo que sqrt(pow(x, 2) + pow(y, 2)) pero más preciso).\n"
      ]
    },
    {
      "cell_type": "code",
      "execution_count": null,
      "metadata": {
        "colab": {
          "base_uri": "https://localhost:8080/"
        },
        "id": "PdekoVyz9KKf",
        "outputId": "f2d4333c-810f-42aa-eefd-aaa1a6a8071c"
      },
      "outputs": [
        {
          "name": "stdout",
          "output_type": "stream",
          "text": [
            "1 2\n",
            "-2 -3\n",
            "2 3\n",
            "-1 -2\n",
            "1 2\n",
            "-1 -2\n"
          ]
        }
      ],
      "source": [
        "from math import ceil, floor, trunc\n",
        "\n",
        "x = 1.4\n",
        "y = 2.6\n",
        "\n",
        "print(floor(x), floor(y))\n",
        "print(floor(-x), floor(-y))\n",
        "print(ceil(x), ceil(y))\n",
        "print(ceil(-x), ceil(-y))\n",
        "print(trunc(x), trunc(y))\n",
        "print(trunc(-x), trunc(-y))"
      ]
    },
    {
      "cell_type": "markdown",
      "metadata": {
        "id": "OGaIN2lH9j4R"
      },
      "source": [
        "# ¿Existe aleatoriedad real en las computadoras?\n",
        "Otro módulo que vale la pena mencionar es el que se llama random.\n",
        "\n",
        "Ofrece algunos mecanismos que permiten operar con números pseudoaleatorios.\n",
        "\n",
        "Toma en cuenta el prefijo pseudo - los números generados por los módulos pueden parecer aleatorios en el sentido de que no se pueden predecir, pero no hay que olvidar que todos se calculan utilizando algoritmos muy refinados.\n",
        "\n",
        "Los algoritmos no son aleatorios, son deterministas y predecibles. Solo aquellos procesos físicos que se salgan completamente de nuestro control (como la intensidad de la radiación cósmica) pueden usarse como fuente de datos aleatorios reales. Los datos producidos por computadoras deterministas no pueden ser aleatorios de ninguna manera.\n",
        "\n",
        "Un generador de números aleatorios toma un valor llamado semilla, lo trata como un valor de entrada, calcula un número \"aleatorio\" basado en él (el método depende de un algoritmo elegido) y produce una nueva semilla.\n",
        "\n",
        "La duración de un ciclo en el que todos los valores semilla son únicos puede ser muy largo, pero no es infinito: tarde o temprano los valores iniciales comenzarán a repetirse y los valores generadores también se repetirán. Esto es normal. Es una característica, no un error.\n",
        "\n",
        "El valor de la semilla inicial, establecido durante el inicio del programa, determina el orden en que aparecerán los valores generados.\n",
        "\n",
        "El factor aleatorio del proceso puede ser aumentado al establecer la semilla tomando un número de la hora actual - esto puede garantizar que cada lanzamiento del programa comience desde un valor semilla diferente (por lo tanto, usará diferentes números aleatorios).\n",
        "\n",
        "Afortunadamente, Python realiza dicha inicialización al importar el módulo.\n",
        "\n",
        "\n",
        "## Funciones seleccionadas del módulo random\n",
        "La función general llamada random() (no debe confundirse con el nombre del módulo) produce un número flotante x entre el rango (0.0, 1.0) - en otras palabras: (0.0 <= x < 1.0).\n",
        "\n",
        "El programa de ejemplo en el editor producirá cinco valores pseudoaleatorios, ya que sus valores están determinados por el valor semilla (un valor impredecible) actual, no se pueden adivinar. Ejecuta el programa."
      ]
    },
    {
      "cell_type": "code",
      "execution_count": null,
      "metadata": {
        "colab": {
          "base_uri": "https://localhost:8080/"
        },
        "id": "vW7dL9I0txWv",
        "outputId": "9c79d04a-79a8-47cc-de87-75403333d134"
      },
      "outputs": [
        {
          "data": {
            "text/plain": [
              "0.5607233802906644"
            ]
          },
          "execution_count": 29,
          "metadata": {},
          "output_type": "execute_result"
        }
      ],
      "source": [
        "import random\n",
        "\n",
        "random.random()"
      ]
    },
    {
      "cell_type": "code",
      "execution_count": null,
      "metadata": {
        "colab": {
          "base_uri": "https://localhost:8080/"
        },
        "id": "iFYuUvJx9Yj8",
        "outputId": "754bd555-14e0-42af-80bf-ed5f402a1f7c"
      },
      "outputs": [
        {
          "name": "stdout",
          "output_type": "stream",
          "text": [
            "0.6269639711267214\n",
            "0.3320234039163904\n",
            "0.4290789699628249\n",
            "0.35105499455389433\n",
            "0.5917022512918113\n"
          ]
        }
      ],
      "source": [
        "from random import random\n",
        "\n",
        "for i in range(5):\n",
        "    print(random())"
      ]
    },
    {
      "cell_type": "markdown",
      "metadata": {
        "id": "1DIsLGju-JVB"
      },
      "source": [
        "La función seed() es capaz de establecer la semilla del generador. Te mostraremos dos de sus variantes:\n",
        "\n",
        "seed() - establece la semilla con la hora actual.\n",
        "seed(int_value) - establece la semilla con el valor entero int_value.\n",
        "Hemos modificado el programa anterior; de hecho, hemos eliminado cualquier rastro de aleatoriedad del código:"
      ]
    },
    {
      "cell_type": "code",
      "execution_count": null,
      "metadata": {
        "colab": {
          "base_uri": "https://localhost:8080/"
        },
        "id": "oRVFcfnH-JwZ",
        "outputId": "b4f4fdcb-7c32-45fa-bbdd-5d52e15b9600"
      },
      "outputs": [
        {
          "name": "stdout",
          "output_type": "stream",
          "text": [
            "0.8444218515250481\n",
            "0.7579544029403025\n",
            "0.420571580830845\n",
            "0.25891675029296335\n",
            "0.5112747213686085\n"
          ]
        }
      ],
      "source": [
        "from random import random, seed\n",
        "\n",
        "seed(0)\n",
        "\n",
        "for i in range(5):\n",
        "    print(random())"
      ]
    },
    {
      "cell_type": "markdown",
      "metadata": {
        "id": "bWRFa6Xy-T8E"
      },
      "source": [
        "Debido al hecho de que la semilla siempre se establece con el mismo valor, la secuencia de valores generados siempre se ve igual.\n",
        "\n",
        "Nota: sus valores pueden ser ligeramente diferentes si tu sistema utiliza aritmética de punto flotante más precisa o menos precisa, pero la diferencia se verá bastante lejos del punto decimal.\n",
        "\n",
        "Si deseas valores aleatorios enteros, una de las siguientes funciones encajaría mejor:\n",
        "\n",
        "* randrange(fin)x\n",
        "* randrange(inico, fin)\n",
        "* randrange(inicio, fin, incremento)\n",
        "* randint(izquierda, derecha)\n",
        "\n",
        "\n",
        "Las primeras tres invocaciones generarán un número entero tomado (pseudoaleatoriamente) del rango:\n",
        "\n",
        "* range(fin)\n",
        "* range(inicio, fin)\n",
        "* range(inicio, fin, incremento)\n",
        "Toma en cuenta la exclusión implícita del lado derecho.\n",
        "\n",
        "La última función es equivalente a randrange(izquierda, derecha+1) - genera el valor entero i, el cual cae en el rango [izquierda, derecha] (sin exclusión en el lado derecho).\n",
        "\n"
      ]
    },
    {
      "cell_type": "code",
      "execution_count": null,
      "metadata": {
        "colab": {
          "base_uri": "https://localhost:8080/"
        },
        "id": "H2-rLsv7-N-Z",
        "outputId": "ad21cda9-5730-41c9-e712-b47d40f90fde"
      },
      "outputs": [
        {
          "name": "stdout",
          "output_type": "stream",
          "text": [
            "0 0 0 1\n"
          ]
        }
      ],
      "source": [
        "from random import randrange, randint\n",
        "\n",
        "print(randrange(1), end=' ')\n",
        "print(randrange(0, 1), end=' ')\n",
        "print(randrange(0, 1, 1), end=' ')\n",
        "print(randint(0, 1))"
      ]
    },
    {
      "cell_type": "code",
      "execution_count": null,
      "metadata": {
        "colab": {
          "base_uri": "https://localhost:8080/"
        },
        "id": "CKtlAPXBlWjW",
        "outputId": "d8333866-7176-47ea-89e0-4ddda566b980"
      },
      "outputs": [
        {
          "data": {
            "text/plain": [
              "3"
            ]
          },
          "execution_count": 6,
          "metadata": {},
          "output_type": "execute_result"
        }
      ],
      "source": [
        "randrange(0,10,3)"
      ]
    },
    {
      "cell_type": "code",
      "execution_count": null,
      "metadata": {
        "id": "vza4T_MUwnIp"
      },
      "outputs": [],
      "source": [
        "#[) ----> randrange\n",
        "#[] ----> randint"
      ]
    },
    {
      "cell_type": "markdown",
      "metadata": {
        "id": "r-VCn5MoASJf"
      },
      "source": [
        "Las funciones anteriores tienen una desventaja importante: pueden producir valores repetidos incluso si el número de invocaciones posteriores no es mayor que el rango especificado.\n",
        "\n",
        "Como puedes ver, esta no es una buena herramienta para generar números para la lotería. Afortunadamente, existe una mejor solución que escribir tu propio código para verificar la singularidad de los números \"sorteados\".\n",
        "\n",
        "Es una función con el nombre de choice:\n",
        "\n",
        "* choice(secuencia)\n",
        "* sample(secuencia, elementos_a_elegir=1)\n",
        "\n",
        "La primera variante elige un elemento \"aleatorio\" de la secuencia de entrada y lo devuelve.\n",
        "\n",
        "El segundo crea una lista (una muestra) que consta del elemento elementos_a_elegir (que por defecto es 1) \"sorteado\" de la secuencia de entrada.\n",
        "\n",
        "En otras palabras, la función elige algunos de los elementos de entrada, devolviendo una lista con la elección. Los elementos de la muestra se colocan en orden aleatorio. Nota que elementos_a_elegir no debe ser mayor que la longitud de la secuencia de entrada."
      ]
    },
    {
      "cell_type": "code",
      "execution_count": null,
      "metadata": {
        "colab": {
          "base_uri": "https://localhost:8080/"
        },
        "id": "Y_PBzell-y62",
        "outputId": "738bdd53-1f07-4bc3-cecc-b60c331658a5"
      },
      "outputs": [
        {
          "name": "stdout",
          "output_type": "stream",
          "text": [
            "10\n",
            "[4, 9, 3, 8, 2]\n",
            "[2, 5, 3, 8, 1, 6, 7, 10, 9, 4]\n"
          ]
        }
      ],
      "source": [
        "from random import choice, sample\n",
        "\n",
        "lst = [1, 2, 3, 4, 5, 6, 7, 8, 9, 10]\n",
        "\n",
        "print(choice(lst))\n",
        "print(sample(lst, 5))\n",
        "print(sample(lst, 10))"
      ]
    },
    {
      "cell_type": "code",
      "execution_count": null,
      "metadata": {
        "id": "VG-5wAOLxjh0"
      },
      "outputs": [],
      "source": [
        "lista_alet=sample(lst,8)"
      ]
    },
    {
      "cell_type": "code",
      "execution_count": null,
      "metadata": {
        "colab": {
          "base_uri": "https://localhost:8080/"
        },
        "id": "vWXCJCLdxs1n",
        "outputId": "633ee18b-fa8f-4844-859b-619375313147"
      },
      "outputs": [
        {
          "data": {
            "text/plain": [
              "[8, 9, 5, 1, 10, 7, 6, 3]"
            ]
          },
          "execution_count": 45,
          "metadata": {},
          "output_type": "execute_result"
        }
      ],
      "source": [
        "lista_alet"
      ]
    },
    {
      "cell_type": "markdown",
      "metadata": {
        "id": "eTcYkXv0Ay95"
      },
      "source": [
        "# ¿Cómo saber dónde estás?\n",
        "\n",
        "A veces, puede ser necesario encontrar información no relacionada con Python. Por ejemplo, es posible que necesites conocer la ubicación de tu programa dentro del entorno de la computadora.\n",
        "\n",
        "Imagina el entorno de tu programa como una pirámide que consta de varias capas o plataformas.\n",
        "\n",
        "* El código (en ejecución) se encuentra en la parte superior.\n",
        "* Python (mejor dicho, su entorno de ejecución) se encuentra directamente debajo de él.\n",
        "* La siguiente capa de la pirámide se llena con el SO (sistema operativo): el entorno de Python proporciona algunas de sus funcionalidades utilizando los servicios del sistema operativo. Python, aunque es muy potente, no es omnipotente: se ve obligado a usar muchos ayudantes si va a procesar archivos o comunicarse con dispositivos físicos.\n",
        "* La capa más inferior es el hardware: el procesador (o procesadores), las interfaces de red, los dispositivos de interfaz humana (ratones, teclados, etc.) y toda otra maquinaria necesaria para hacer funcionar la computadora: el sistema operativo sabe cómo emplearlos y utiliza muchos trucos para trabajar con todas las partes en un ritmo constante.\n",
        "\n",
        "Esto significa que algunas de las acciones del programa tienen que recorrer un largo camino para ejecutarse con éxito, imagina que:\n",
        "\n",
        "* Tu código quiere crear un archivo, por lo que invoca una de las funciones de Python.\n",
        "* Python acepta la orden, la reorganiza para cumplir con los requisitos del sistema operativo local (es como poner el sello \"aprobado\" en una solicitud) y lo envía.\n",
        "* El SO comprueba si la solicitud es razonable y válida (por ejemplo, si el nombre del archivo se ajusta a algunas reglas de sintaxis) e intenta crear el archivo. Tal operación, aparentemente es muy simple, no es atómica: consiste de muchos pasos menores tomados por...\n",
        "* El hardware, el cual es responsable de activar los dispositivos de almacenamiento (disco duro, dispositivos de estado sólido, etc.) para satisfacer las necesidades del sistema operativo.\n",
        "\n",
        "Por lo general, no eres consciente de todo ese alboroto: quieres que se cree el archivo y eso es todo.\n",
        "\n",
        "Pero a veces quieres saber más, por ejemplo, el nombre del sistema operativo que aloja Python y algunas características que describen el hardware que aloja el sistema operativo.\n",
        "\n",
        "Hay un módulo que proporciona algunos medios para permitir saber dónde se encuentra y qué componentes funcionan. El módulo se llama platform. Veamos algunas de las funciones que brinda."
      ]
    },
    {
      "cell_type": "markdown",
      "metadata": {
        "id": "_RI4RwSDC49J"
      },
      "source": [
        "# Funciones seleccionadas del módulo platform\n",
        "\n",
        "El módulo platform permite acceder a los datos de la plataforma subyacente, es decir, hardware, sistema operativo e información sobre la versión del intérprete.\n",
        "\n",
        "Existe también una función que puede mostrar todas las capas subyacentes en un solo vistazo, llamada platform. Simplemente devuelve una cadena que describe el entorno; por lo tanto, su salida está más dirigida a los humanos que al procesamiento automatizado (lo veremos pronto).\n",
        "\n"
      ]
    },
    {
      "cell_type": "code",
      "execution_count": null,
      "metadata": {
        "colab": {
          "base_uri": "https://localhost:8080/"
        },
        "id": "LcjuOIlDDBWc",
        "outputId": "1dc00eba-a210-4a1a-dfbe-a07cf1bb5a8d"
      },
      "outputs": [
        {
          "name": "stdout",
          "output_type": "stream",
          "text": [
            "Linux-5.4.144+-x86_64-with-Ubuntu-18.04-bionic\n",
            "Linux-5.4.144+-x86_64-with-Ubuntu-18.04-bionic\n",
            "Linux-5.4.144+-x86_64-with-glibc2.26\n"
          ]
        }
      ],
      "source": [
        "from platform import platform\n",
        "\n",
        "print(platform())\n",
        "print(platform(1))\n",
        "print(platform(0, 1))"
      ]
    },
    {
      "cell_type": "code",
      "execution_count": null,
      "metadata": {
        "colab": {
          "base_uri": "https://localhost:8080/",
          "height": 35
        },
        "id": "lfIwjHQCAqcb",
        "outputId": "9e9f2ccf-e45c-4efb-909e-bfdf3a4087d6"
      },
      "outputs": [
        {
          "data": {
            "application/vnd.google.colaboratory.intrinsic+json": {
              "type": "string"
            },
            "text/plain": [
              "'Linux-5.4.104+-x86_64-with-Ubuntu-18.04-bionic'"
            ]
          },
          "execution_count": 15,
          "metadata": {
            "tags": []
          },
          "output_type": "execute_result"
        }
      ],
      "source": [
        "platform(aliased = False, terse = False)"
      ]
    },
    {
      "cell_type": "markdown",
      "metadata": {
        "id": "0gjOIVXfDJt3"
      },
      "source": [
        "Ahora:\n",
        "\n",
        "* aliased → cuando se establece a True (o cualquier valor distinto de cero) puede hacer que la función presente los nombres de capa subyacentes alternativos en lugar de los comunes.\n",
        "* terse → cuando se establece a True (o cualquier valor distinto de cero) puede convencer a la función de presentar una forma más breve del resultado (si lo fuera posible)\n",
        "\n",
        "A veces, es posible que solo se desee conocer el nombre genérico del procesador que ejecuta el sistema operativo junto con Python y el código, una función llamada machine() te lo dirá. Como anteriormente, la función devuelve una cadena."
      ]
    },
    {
      "cell_type": "code",
      "execution_count": null,
      "metadata": {
        "colab": {
          "base_uri": "https://localhost:8080/"
        },
        "id": "XO3KtSP3C_YY",
        "outputId": "ae0a1b58-fb35-4c00-9929-40bba9f5cfe5"
      },
      "outputs": [
        {
          "name": "stdout",
          "output_type": "stream",
          "text": [
            "x86_64\n"
          ]
        }
      ],
      "source": [
        "from platform import machine\n",
        "\n",
        "print(machine())"
      ]
    },
    {
      "cell_type": "markdown",
      "metadata": {
        "id": "TyXTDMJhDZUG"
      },
      "source": [
        "La función processor() devuelve una cadena con el nombre real del procesador (si lo fuese posible)."
      ]
    },
    {
      "cell_type": "code",
      "execution_count": null,
      "metadata": {
        "colab": {
          "base_uri": "https://localhost:8080/"
        },
        "id": "pOjTkLX6DU3p",
        "outputId": "b31b60d6-0062-4252-b836-710609ea1f80"
      },
      "outputs": [
        {
          "name": "stdout",
          "output_type": "stream",
          "text": [
            "x86_64\n"
          ]
        }
      ],
      "source": [
        "from platform import processor\n",
        "\n",
        "print(processor())"
      ]
    },
    {
      "cell_type": "markdown",
      "metadata": {
        "id": "lLp_pYz3Dfb4"
      },
      "source": [
        "Una función llamada system() devuelve el nombre genérico del sistema operativo en una cadena."
      ]
    },
    {
      "cell_type": "code",
      "execution_count": null,
      "metadata": {
        "colab": {
          "base_uri": "https://localhost:8080/"
        },
        "id": "SnnW2UlpDa94",
        "outputId": "25e80b83-a0ce-42b2-efaa-69de76f01318"
      },
      "outputs": [
        {
          "name": "stdout",
          "output_type": "stream",
          "text": [
            "Linux\n"
          ]
        }
      ],
      "source": [
        "from platform import system\n",
        "\n",
        "print(system())"
      ]
    },
    {
      "cell_type": "markdown",
      "metadata": {
        "id": "hRWR9guQDkm1"
      },
      "source": [
        "Funciones seleccionadas del módulo platform: continuación\n",
        "La versión del sistema operativo se proporciona como una cadena por la función version()."
      ]
    },
    {
      "cell_type": "code",
      "execution_count": null,
      "metadata": {
        "colab": {
          "base_uri": "https://localhost:8080/"
        },
        "id": "RepZTiDFDhKx",
        "outputId": "59e15600-f990-4080-e542-6a764ad82d9d"
      },
      "outputs": [
        {
          "name": "stdout",
          "output_type": "stream",
          "text": [
            "#1 SMP Sat Jun 5 09:50:34 PDT 2021\n"
          ]
        }
      ],
      "source": [
        "from platform import version\n",
        "\n",
        "print(version())"
      ]
    }
  ],
  "metadata": {
    "colab": {
      "collapsed_sections": [],
      "provenance": []
    },
    "kernelspec": {
      "display_name": "Python 3.9.5 64-bit",
      "language": "python",
      "name": "python3"
    },
    "language_info": {
      "name": "python",
      "version": "3.9.5"
    },
    "vscode": {
      "interpreter": {
        "hash": "b0fa6594d8f4cbf19f97940f81e996739fb7646882a419484c72d19e05852a7e"
      }
    }
  },
  "nbformat": 4,
  "nbformat_minor": 0
}
