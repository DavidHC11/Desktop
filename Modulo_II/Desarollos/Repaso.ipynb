{
  "cells": [
    {
      "cell_type": "markdown",
      "metadata": {
        "id": "6eIkeKpCzHx_"
      },
      "source": [
        "# Repaso"
      ]
    },
    {
      "cell_type": "code",
      "execution_count": 1,
      "metadata": {
        "id": "UXZwd9-Dyj7b"
      },
      "outputs": [
        {
          "name": "stdout",
          "output_type": "stream",
          "text": [
            "\u001b[0;31mDocstring:\u001b[0m\n",
            "print(value, ..., sep=' ', end='\\n', file=sys.stdout, flush=False)\n",
            "\n",
            "Prints the values to a stream, or to sys.stdout by default.\n",
            "Optional keyword arguments:\n",
            "file:  a file-like object (stream); defaults to the current sys.stdout.\n",
            "sep:   string inserted between values, default a space.\n",
            "end:   string appended after the last value, default a newline.\n",
            "flush: whether to forcibly flush the stream.\n",
            "\u001b[0;31mType:\u001b[0m      builtin_function_or_method\n"
          ]
        }
      ],
      "source": [
        "print?"
      ]
    },
    {
      "cell_type": "code",
      "execution_count": 2,
      "metadata": {},
      "outputs": [
        {
          "name": "stdout",
          "output_type": "stream",
          "text": [
            "Help on built-in function print in module builtins:\n",
            "\n",
            "print(...)\n",
            "    print(value, ..., sep=' ', end='\\n', file=sys.stdout, flush=False)\n",
            "    \n",
            "    Prints the values to a stream, or to sys.stdout by default.\n",
            "    Optional keyword arguments:\n",
            "    file:  a file-like object (stream); defaults to the current sys.stdout.\n",
            "    sep:   string inserted between values, default a space.\n",
            "    end:   string appended after the last value, default a newline.\n",
            "    flush: whether to forcibly flush the stream.\n",
            "\n"
          ]
        }
      ],
      "source": [
        "help(print)"
      ]
    },
    {
      "cell_type": "code",
      "execution_count": 3,
      "metadata": {
        "colab": {
          "base_uri": "https://localhost:8080/"
        },
        "id": "1NihpGaByqpL",
        "outputId": "a5cfdf04-f945-4da2-c51c-89e43ed58e74"
      },
      "outputs": [
        {
          "name": "stdout",
          "output_type": "stream",
          "text": [
            "Hola Mundo_como estas?"
          ]
        }
      ],
      "source": [
        "print('Hola Mundo','como estas', end='?',sep='_')"
      ]
    },
    {
      "cell_type": "markdown",
      "metadata": {
        "id": "ZocKUhU5zVzC"
      },
      "source": [
        "# Tipos de datos"
      ]
    },
    {
      "cell_type": "code",
      "execution_count": null,
      "metadata": {
        "id": "P16wRZnZzRll"
      },
      "outputs": [],
      "source": [
        "entero=1\n",
        "decimal=12.5\n",
        "string='Hola Mundo'\n",
        "boolean=True"
      ]
    },
    {
      "cell_type": "code",
      "execution_count": 5,
      "metadata": {
        "colab": {
          "base_uri": "https://localhost:8080/"
        },
        "id": "NW46ZFcyYXOr",
        "outputId": "c2f63db3-383c-41b2-b992-40a16693fff9"
      },
      "outputs": [
        {
          "name": "stdout",
          "output_type": "stream",
          "text": [
            "10 10 10.0\n"
          ]
        }
      ],
      "source": [
        "entero=10\n",
        "print(entero, '10', 10.0)"
      ]
    },
    {
      "cell_type": "code",
      "execution_count": 8,
      "metadata": {},
      "outputs": [
        {
          "name": "stdout",
          "output_type": "stream",
          "text": [
            "100\n",
            "10101010101010101010\n"
          ]
        }
      ],
      "source": [
        "print(entero *10)\n",
        "print('10'*10)"
      ]
    },
    {
      "cell_type": "markdown",
      "metadata": {
        "id": "uIuaudXYzpuW"
      },
      "source": [
        "# Octal"
      ]
    },
    {
      "cell_type": "code",
      "execution_count": null,
      "metadata": {
        "colab": {
          "base_uri": "https://localhost:8080/"
        },
        "id": "OPWF04c4zo23",
        "outputId": "1a755cb1-416f-4270-a74c-6233c634dbb1"
      },
      "outputs": [
        {
          "name": "stdout",
          "output_type": "stream",
          "text": [
            "83\n"
          ]
        }
      ],
      "source": [
        "print(0o123)"
      ]
    },
    {
      "cell_type": "markdown",
      "metadata": {
        "id": "Rgodkfh4zvRi"
      },
      "source": [
        "# Hexadecimal"
      ]
    },
    {
      "cell_type": "code",
      "execution_count": null,
      "metadata": {
        "colab": {
          "base_uri": "https://localhost:8080/"
        },
        "id": "l6tTQsX4ztoO",
        "outputId": "59531db0-93c9-4c14-8a08-fcf728b8413c"
      },
      "outputs": [
        {
          "name": "stdout",
          "output_type": "stream",
          "text": [
            "291\n"
          ]
        }
      ],
      "source": [
        "print(0x123)"
      ]
    },
    {
      "cell_type": "markdown",
      "metadata": {
        "id": "RbDP41LE0MFD"
      },
      "source": [
        "# Cambio de tipo de dato"
      ]
    },
    {
      "cell_type": "code",
      "execution_count": 11,
      "metadata": {
        "colab": {
          "base_uri": "https://localhost:8080/",
          "height": 70
        },
        "id": "XuJATt_7zxwm",
        "outputId": "c3219b24-f04d-481f-d661-7e05d912a70c"
      },
      "outputs": [
        {
          "name": "stdout",
          "output_type": "stream",
          "text": [
            "234.0\n",
            "12\n"
          ]
        },
        {
          "data": {
            "text/plain": [
              "'45'"
            ]
          },
          "execution_count": 11,
          "metadata": {},
          "output_type": "execute_result"
        }
      ],
      "source": [
        "print(float(234))\n",
        "print(int(12.9))\n",
        "str(45)"
      ]
    },
    {
      "cell_type": "code",
      "execution_count": 13,
      "metadata": {},
      "outputs": [
        {
          "name": "stdout",
          "output_type": "stream",
          "text": [
            "x\n"
          ]
        },
        {
          "data": {
            "text/plain": [
              "'10'"
            ]
          },
          "execution_count": 13,
          "metadata": {},
          "output_type": "execute_result"
        }
      ],
      "source": [
        "x = 10\n",
        "\n",
        "print('x')\n",
        "str(x)"
      ]
    },
    {
      "cell_type": "markdown",
      "metadata": {
        "id": "nE0xOR2h-elW"
      },
      "source": [
        "# Operaciones"
      ]
    },
    {
      "cell_type": "code",
      "execution_count": 18,
      "metadata": {},
      "outputs": [],
      "source": [
        "x = input()\n",
        "y = x + input()"
      ]
    },
    {
      "cell_type": "code",
      "execution_count": 20,
      "metadata": {},
      "outputs": [
        {
          "data": {
            "text/plain": [
              "19"
            ]
          },
          "execution_count": 20,
          "metadata": {},
          "output_type": "execute_result"
        }
      ],
      "source": [
        "eval(y)"
      ]
    },
    {
      "cell_type": "code",
      "execution_count": 15,
      "metadata": {},
      "outputs": [
        {
          "data": {
            "text/plain": [
              "24"
            ]
          },
          "execution_count": 15,
          "metadata": {},
          "output_type": "execute_result"
        }
      ],
      "source": [
        "eval(\"10+15-3+2\")"
      ]
    },
    {
      "cell_type": "code",
      "execution_count": null,
      "metadata": {
        "colab": {
          "base_uri": "https://localhost:8080/"
        },
        "id": "v97r70sY9Q-Y",
        "outputId": "ce3405af-de94-4bc5-b3e3-2778acf2f415"
      },
      "outputs": [
        {
          "name": "stdout",
          "output_type": "stream",
          "text": [
            "Dame un número: 12\n",
            "Dame un número: 34\n",
            "\n",
            "\n",
            "Suma:  46\n",
            "Multiplicación:  408\n",
            "Resta:  -22\n",
            "División:  0.35294117647058826\n",
            "División entera:  0\n",
            "Módulo:  12\n",
            "Exponente:  4922235242952026704037113243122008064\n"
          ]
        }
      ],
      "source": [
        "a=float(input('Dame un número: '))\n",
        "b=float(input('Dame un número: '))\n",
        "\n",
        "print()\n",
        "print()\n",
        "print('Suma: ', a+b)\n",
        "print('Multiplicación: ', a*b)\n",
        "print('Resta: ', a-b)\n",
        "print('División: ', a/b)\n",
        "print('División entera: ', a//b)\n",
        "print('Módulo: ', a%b)\n",
        "print('Exponente: ', a**b)\n",
        "print('Raíz: ', a**(1/b))"
      ]
    },
    {
      "cell_type": "markdown",
      "metadata": {
        "id": "WcPQ9Lvk-gKJ"
      },
      "source": [
        "# Operadores lógicos"
      ]
    },
    {
      "cell_type": "code",
      "execution_count": null,
      "metadata": {
        "colab": {
          "base_uri": "https://localhost:8080/"
        },
        "id": "S5zfLWml-AhO",
        "outputId": "b44e6b9b-2acb-4b06-e54d-123837cf1933"
      },
      "outputs": [
        {
          "data": {
            "text/plain": [
              "False"
            ]
          },
          "execution_count": 5,
          "metadata": {},
          "output_type": "execute_result"
        }
      ],
      "source": [
        "1==2"
      ]
    },
    {
      "cell_type": "code",
      "execution_count": null,
      "metadata": {
        "colab": {
          "base_uri": "https://localhost:8080/"
        },
        "id": "oURz5PgT-kEl",
        "outputId": "9065bdcb-d30e-45e0-9422-26d306abd511"
      },
      "outputs": [
        {
          "data": {
            "text/plain": [
              "True"
            ]
          },
          "execution_count": 6,
          "metadata": {},
          "output_type": "execute_result"
        }
      ],
      "source": [
        "1!=2"
      ]
    },
    {
      "cell_type": "code",
      "execution_count": null,
      "metadata": {
        "colab": {
          "base_uri": "https://localhost:8080/"
        },
        "id": "ao6Xu0wG-lta",
        "outputId": "346d79b3-10e0-4c10-b4ab-c4e827e43847"
      },
      "outputs": [
        {
          "name": "stdout",
          "output_type": "stream",
          "text": [
            "True\n"
          ]
        },
        {
          "data": {
            "text/plain": [
              "False"
            ]
          },
          "execution_count": 13,
          "metadata": {},
          "output_type": "execute_result"
        }
      ],
      "source": [
        "print(1<2)\n",
        "1>2"
      ]
    },
    {
      "cell_type": "code",
      "execution_count": null,
      "metadata": {
        "colab": {
          "base_uri": "https://localhost:8080/"
        },
        "id": "QBpwsc1i-m7R",
        "outputId": "94ff38c7-9e3a-4ade-ec86-b4991903eb38"
      },
      "outputs": [
        {
          "data": {
            "text/plain": [
              "False"
            ]
          },
          "execution_count": 9,
          "metadata": {},
          "output_type": "execute_result"
        }
      ],
      "source": [
        "1>=2"
      ]
    },
    {
      "cell_type": "code",
      "execution_count": null,
      "metadata": {
        "id": "uh39VSGi1Bp1"
      },
      "outputs": [],
      "source": [
        "!=\n",
        ">=\n",
        "<="
      ]
    },
    {
      "cell_type": "markdown",
      "metadata": {
        "id": "Pqiqh7Jb_W9e"
      },
      "source": [
        "# Condicionales"
      ]
    },
    {
      "cell_type": "code",
      "execution_count": 23,
      "metadata": {},
      "outputs": [
        {
          "name": "stdout",
          "output_type": "stream",
          "text": [
            "adios\n"
          ]
        }
      ],
      "source": [
        "if False:\n",
        "    print(\"Hola\")\n",
        "    pass\n",
        "else:\n",
        "    print(\"adios\")"
      ]
    },
    {
      "cell_type": "markdown",
      "metadata": {},
      "source": [
        "* Verdadero con and necesito los dos verdaderos\n",
        "* Verdadero con un or necesito al menos un verdadero\n",
        "* Con not cambio el status de mi boolean "
      ]
    },
    {
      "cell_type": "code",
      "execution_count": null,
      "metadata": {},
      "outputs": [],
      "source": [
        "and, or, not "
      ]
    },
    {
      "cell_type": "code",
      "execution_count": null,
      "metadata": {},
      "outputs": [],
      "source": [
        "numero = int(input())\n",
        "\n",
        "if numero>0:\n",
        "    print(\"positivo\")\n",
        "elif numero==0:\n",
        "    print(\"tu numero es cero\")\n",
        "else: \n",
        "    print(\"negativo\")"
      ]
    },
    {
      "cell_type": "code",
      "execution_count": 33,
      "metadata": {
        "colab": {
          "base_uri": "https://localhost:8080/"
        },
        "id": "Jub8PCre-n9G",
        "outputId": "bc99af73-e07b-4b96-a6ac-efafdc1619fa"
      },
      "outputs": [
        {
          "name": "stdout",
          "output_type": "stream",
          "text": [
            "Tienes que pagar impuestos\n"
          ]
        }
      ],
      "source": [
        "age = int(input(\"¿Cuál es tu edad? \"))\n",
        "income = float(input(\"¿Cuales son tus ingresos mensuales?\"))\n",
        "if age>35 and income>=50000:\n",
        "    print('Pagas el doble')\n",
        "elif age > 18 and income >= 10000:\n",
        "    print(\"Tienes que pagar impuestos\")\n",
        "else:\n",
        "  print(\"No tienes que pagar impuestos\")"
      ]
    },
    {
      "cell_type": "markdown",
      "metadata": {
        "id": "OiOpbBGp_ryR"
      },
      "source": [
        "# Reto 1\n",
        "Los alumnos de un curso se han dividido en dos grupos A y B de acuerdo al sexo y el nombre. El grupo A esta formado por las mujeres con un nombre anterior a la M y los hombres con un nombre posterior a la N y el grupo B por el resto. Escribir un programa que pregunte al usuario su nombre y sexo, y muestre por pantalla el grupo que le corresponde."
      ]
    },
    {
      "cell_type": "code",
      "execution_count": null,
      "metadata": {
        "id": "LsGPfR1c_gGA"
      },
      "outputs": [],
      "source": [
        "name = input(\"¿Cómo te llamas? \")\n",
        "gender = input(\"¿Cuál es tu sexo (M o H)? \").upper()\n",
        "if gender == \"M\":\n",
        "    if name.lower() < \"m\":\n",
        "        group = \"A\"\n",
        "    else:\n",
        "        group = \"B\"\n",
        "else:\n",
        "    if name.lower() > \"n\":\n",
        "        group = \"A\"\n",
        "    else:\n",
        "        group = \"B\"\n",
        "print(\"Tu grupo es \" + group)"
      ]
    },
    {
      "cell_type": "code",
      "execution_count": null,
      "metadata": {
        "id": "BW3fE_REAHZu"
      },
      "outputs": [],
      "source": [
        "name = input(\"¿Cómo te llamas? \")\n",
        "gender = input(\"¿Cuál es tu sexo (M o H)? \")\n",
        "if (gender == \"M\" and name.lower() < 'm') or (gender == \"H\" and name.lower() > 'n'):\n",
        "    group = \"A\"\n",
        "else:\n",
        "    group = \"B\"\n",
        "print(\"Tu grupo es \" + group)"
      ]
    },
    {
      "cell_type": "markdown",
      "metadata": {
        "id": "OY3EsKNr_-2p"
      },
      "source": [
        "# Reto 2\n",
        "\n",
        "Los tramos impositivos para la declaración de la renta en un determinado país son los siguientes:\n",
        "\n",
        "|Renta  |\tTipo impositivo|\n",
        "| :---: | :------------: |\n",
        "|Menos de 10000€|\t5%|\n",
        "|Entre 10000€ y 20000€|\t15%|\n",
        "|Entre 20000€ y 35000€|\t20%|\n",
        "|Entre 35000€ y 60000€|\t30%|\n",
        "|Más de 60000€|\t45%|\n",
        "\n",
        "\n",
        "Escribir un programa que pregunte al usuario su renta anual y muestre por pantalla el tipo impositivo que le corresponde."
      ]
    },
    {
      "cell_type": "code",
      "execution_count": null,
      "metadata": {
        "colab": {
          "base_uri": "https://localhost:8080/"
        },
        "id": "3OxOre2rABf6",
        "outputId": "7040666e-945f-4eed-9323-555c2a21b68b"
      },
      "outputs": [
        {
          "name": "stdout",
          "output_type": "stream",
          "text": [
            "¿Cuál es tu renta anual? 10000\n",
            "Tienes que pagar 1500.0€\n"
          ]
        }
      ],
      "source": [
        "# Preguntar al usuario por la renta\n",
        "renta = float(input(\"¿Cuál es tu renta anual? \"))\n",
        "# Condicional para determinar el tipo impositivo dependiendo de la renta\n",
        "if renta < 10000:\n",
        "    tipo = 5\n",
        "elif renta < 20000:\n",
        "    tipo = 15\n",
        "elif renta < 35000:\n",
        "    tipo = 20\n",
        "elif renta < 60000:\n",
        "    tipo = 30\n",
        "else:\n",
        "    tipo = 45\n",
        "# Mostrar por pantalla el producto de la renta por el tipo impositivo\n",
        "print(\"Tienes que pagar \", renta * tipo / 100, \"$\", sep='')"
      ]
    },
    {
      "cell_type": "markdown",
      "metadata": {
        "id": "lJ9V7lrLA4mb"
      },
      "source": [
        "# Ciclos"
      ]
    },
    {
      "cell_type": "markdown",
      "metadata": {
        "id": "rhQDEknnGp76"
      },
      "source": [
        "Escribir un programa que pregunte al usuario una cantidad a invertir, el interés anual y el número de años, y muestre por pantalla el capital obtenido en la inversión cada año que dura la inversión."
      ]
    },
    {
      "cell_type": "code",
      "execution_count": null,
      "metadata": {
        "colab": {
          "base_uri": "https://localhost:8080/"
        },
        "id": "4pvrzv6tAwU_",
        "outputId": "6ab89ff7-41a8-4055-ed93-97aad2dd4b1f"
      },
      "outputs": [
        {
          "name": "stdout",
          "output_type": "stream",
          "text": [
            "¿Cantidad a invertir? 100000\n",
            "¿Interés porcentual anual? 7.25\n",
            "¿Años?3\n",
            "|Capital tras |1| años: |107250.0| \n",
            "|Capital tras |2| años: |115025.62| \n",
            "|Capital tras |3| años: |123364.98| \n"
          ]
        }
      ],
      "source": [
        "amount = float(input(\"¿Cantidad a invertir? \"))\n",
        "interest = float(input(\"¿Interés porcentual anual? \"))\n",
        "years = int(input(\"¿Años? \"))\n",
        "for i in range(years):\n",
        "    amount *= 1 + interest / 100 \n",
        "    print(\"|Capital tras |\" + str(i+1) + \"| años: |\" + str(round(amount, 2)), end='| \\n')"
      ]
    },
    {
      "cell_type": "markdown",
      "metadata": {
        "id": "7ErxF3LxHOuG"
      },
      "source": [
        "# Reto 3\n",
        "\n",
        "Escribir un programa que pida al usuario un número entero y muestre por pantalla un triángulo rectángulo como el de más abajo, de altura el número introducido.\n",
        "~~~\n",
        "*\n",
        "**\n",
        "***\n",
        "****\n",
        "*****\n",
        "~~~"
      ]
    },
    {
      "cell_type": "code",
      "execution_count": null,
      "metadata": {
        "id": "HebGcn40HPkz"
      },
      "outputs": [],
      "source": [
        "n = int(input(\"Introduce la altura del triángulo (entero positivo): \"))\n",
        "for i in range(n):\n",
        "    for j in range(i+1):\n",
        "        print(\"*\", end=\"\")\n",
        "    print(\"\")"
      ]
    },
    {
      "cell_type": "code",
      "execution_count": null,
      "metadata": {
        "id": "TzvP8u2YHjVf"
      },
      "outputs": [],
      "source": [
        "n = int(input(\"Introduce la altura del triángulo (entero positivo): \"))\n",
        "for i in range(n):\n",
        "   print(\"*\"*(i+1))"
      ]
    },
    {
      "cell_type": "markdown",
      "metadata": {
        "id": "XkcIf4mqHvrc"
      },
      "source": [
        "# Reto 4\n",
        "Escribir un programa en el que se pregunte al usuario por una frase y una letra, y muestre por pantalla el número de veces que aparece la letra en la frase."
      ]
    },
    {
      "cell_type": "code",
      "execution_count": null,
      "metadata": {
        "id": "ajIbVBscHwfI"
      },
      "outputs": [],
      "source": [
        "frase = input(\"Introduce una frase: \")\n",
        "letra = input(\"Introduce una letra\")\n",
        "contador = 0\n",
        "for i in frase:\n",
        "    if i == letra:\n",
        "        contador += 1\n",
        "print(\"La letra '%s' aparece %2i veces en la frase '%s'.\" % (letra, contador, frase))"
      ]
    },
    {
      "cell_type": "code",
      "execution_count": null,
      "metadata": {
        "id": "EZhstUVow6C3"
      },
      "outputs": [],
      "source": [
        "frase=input('Escribe una frase u oración o escribe 0 para detener: ')\n",
        "if frase!='0':\n",
        "  letra=input('Elige una letra:')\n",
        "\n",
        "boton_cancel='0'\n",
        "\n",
        "while frase!=boton_cancel:\n",
        "  contador=0\n",
        "  for i in frase:\n",
        "    if i== letra:\n",
        "      contador +=1\n",
        "  print('La '+ str(letra) + ' aparece ' + str(contador) + ' veces.')\n",
        "\n",
        "  frase=input('Escribe una frase u oración (o escribe 0 para detener): ')\n",
        "  if frase!='0':\n",
        "    letra=input('Elige una letra:')"
      ]
    },
    {
      "cell_type": "markdown",
      "metadata": {
        "id": "CjBC3NovJx5H"
      },
      "source": [
        "# Funciones"
      ]
    },
    {
      "cell_type": "markdown",
      "metadata": {
        "id": "cY0sxKmuOVxl"
      },
      "source": [
        "Escribir una función a la que se le pase una cadena \n",
        "~~~\n",
        "<nombre>\n",
        "~~~\n",
        " y muestre por pantalla el saludo \n",
        " ~~~\n",
        " ¡hola <nombre>!.\n",
        " ~~~"
      ]
    },
    {
      "cell_type": "code",
      "execution_count": null,
      "metadata": {
        "colab": {
          "base_uri": "https://localhost:8080/"
        },
        "id": "oFqfDDLAOUIN",
        "outputId": "2dc0adbe-3675-4676-96c4-b0a58fd7aff9"
      },
      "outputs": [
        {
          "name": "stdout",
          "output_type": "stream",
          "text": [
            "¡Hola Alf!\n",
            "¡Hola Python!\n"
          ]
        }
      ],
      "source": [
        "def greet(nombre):\n",
        "    \"\"\"Función que muestra un saludo por pantalla.\n",
        "    Parámetros\n",
        "    nombre: Nombre del usuario\n",
        "    Devuelve el saludo ¡Hola nombre!.\n",
        "    \"\"\"\n",
        "    print('¡Hola ' + nombre +'!')\n",
        "    return\n",
        "\n",
        "greet('Alf')\n",
        "greet('Python')"
      ]
    },
    {
      "cell_type": "code",
      "execution_count": null,
      "metadata": {
        "id": "GDA3fFRW3OhM"
      },
      "outputs": [],
      "source": [
        "greet?"
      ]
    },
    {
      "cell_type": "code",
      "execution_count": null,
      "metadata": {
        "colab": {
          "base_uri": "https://localhost:8080/",
          "height": 35
        },
        "id": "FXXaALvsxsBe",
        "outputId": "b8a7ec78-edfb-48ad-b415-fc4d296d32b3"
      },
      "outputs": [
        {
          "data": {
            "application/vnd.google.colaboratory.intrinsic+json": {
              "type": "string"
            },
            "text/plain": [
              "'¡Hola David!'"
            ]
          },
          "execution_count": 27,
          "metadata": {},
          "output_type": "execute_result"
        }
      ],
      "source": [
        "def greet(nombre):\n",
        "    \"\"\"Función que muestra un saludo por pantalla.\n",
        "    Parámetros\n",
        "    nombre: Nombre del usuario\n",
        "    Devuelve el saludo ¡Hola nombre!.\n",
        "    \"\"\"\n",
        "    return '¡Hola ' + nombre +'!'\n",
        "\n",
        "var=greet('daniel')\n",
        "dar=greet('David')\n",
        "\n",
        "dar"
      ]
    },
    {
      "cell_type": "markdown",
      "metadata": {
        "id": "JNqFhfsEOpgW"
      },
      "source": [
        "Escribir una función que reciba un número entero positivo y devuelva su factorial."
      ]
    },
    {
      "cell_type": "code",
      "execution_count": null,
      "metadata": {
        "colab": {
          "base_uri": "https://localhost:8080/"
        },
        "id": "27dwdAlROk8X",
        "outputId": "946a5fab-2526-4a39-d18b-c4f298bdd90e"
      },
      "outputs": [
        {
          "name": "stdout",
          "output_type": "stream",
          "text": [
            "24\n",
            "2432902008176640000\n"
          ]
        }
      ],
      "source": [
        "def factorial(n):\n",
        "    \"\"\"Función que calcula el factorial de un número entero positivo.\n",
        "    Parámetros\n",
        "    n: Es un entero positivo.\n",
        "    \n",
        "    Devuelve el factorial de n.\n",
        "    \"\"\"\n",
        "    tmp = 1\n",
        "    for i in range(n):\n",
        "        tmp *= i+1\n",
        "    return tmp\n",
        "\n",
        "print(factorial(4))\n",
        "print(factorial(20))"
      ]
    },
    {
      "cell_type": "code",
      "execution_count": null,
      "metadata": {
        "id": "UW3Ls6RNyg79"
      },
      "outputs": [],
      "source": [
        "?factorial"
      ]
    },
    {
      "cell_type": "markdown",
      "metadata": {
        "id": "z7llH_QeO0mi"
      },
      "source": [
        "# Retos finales\n",
        "\n",
        "Escribir una función que calcule el total de una factura tras aplicarle el IVA. La función debe recibir la cantidad sin IVA y el porcentaje de IVA a aplicar, y devolver el total de la factura. Si se invoca la función sin pasarle el porcentaje de IVA, deberá aplicar un 21%."
      ]
    },
    {
      "cell_type": "code",
      "execution_count": null,
      "metadata": {
        "colab": {
          "base_uri": "https://localhost:8080/"
        },
        "id": "gKvw_QoPOtHo",
        "outputId": "924f36ae-1aba-4bff-b265-cd37ea631cfc"
      },
      "outputs": [
        {
          "name": "stdout",
          "output_type": "stream",
          "text": [
            "1100.0\n",
            "1210.0\n"
          ]
        }
      ],
      "source": [
        "def invoice(amount, vat=21):\n",
        "    \"\"\"Función de aplica el IVA a una factura.\n",
        "    Parametros\n",
        "    amount: Es la cantidad sin IVA\n",
        "    vat: Es el porcentaje de IVA\n",
        "    Devuelve el total de la factura una vez aplicado el IVA. \n",
        "    \"\"\"\n",
        "    return amount + amount*vat/100\n",
        "\n",
        "print(invoice(1000,10))\n",
        "print(invoice(1000))"
      ]
    },
    {
      "cell_type": "markdown",
      "metadata": {
        "id": "-ZW6CSwvO-AE"
      },
      "source": [
        "# Escribir una función que reciba una muestra de números en una lista y devuelva su media."
      ]
    },
    {
      "cell_type": "code",
      "execution_count": null,
      "metadata": {
        "id": "7MiZIp_OO5il"
      },
      "outputs": [],
      "source": [
        "def mean(sample):\n",
        "    \"\"\"Función que calcula la media de una muestra de números.\n",
        "    Parámetros\n",
        "    sample: Es una lista de números\n",
        "    Devuelve la media de los números en sample. \n",
        "    \"\"\"\n",
        "    return sum(sample)/len(sample)\n",
        "\n",
        "print(mean([1, 2, 3, 4, 5]))\n",
        "print(mean([2.3, 5.7, 6.8, 9.7, 12.1, 15.6]))"
      ]
    },
    {
      "cell_type": "code",
      "execution_count": null,
      "metadata": {
        "id": "8BrX072UPCeB"
      },
      "outputs": [],
      "source": [
        "def mean(*sample):\n",
        "    \"\"\"Función que calcula la media de una muestra de números.\n",
        "    Parámetros\n",
        "    *sample: Secuencia de números separados por comas.\n",
        "    Devuelve la media de los números en *sample. \n",
        "    \"\"\"\n",
        "    return sum(sample)/len(sample)\n",
        "\n",
        "print(mean(1, 2, 3, 4, 5))\n",
        "print(mean(2.3, 5.7, 6.8, 9.7, 12.1, 15.6))"
      ]
    },
    {
      "cell_type": "markdown",
      "metadata": {
        "id": "oJ8vHM-aPKSj"
      },
      "source": [
        "# Escribir una función que reciba una muestra de números en una lista y devuelva otra lista con sus cuadrados."
      ]
    },
    {
      "cell_type": "code",
      "execution_count": null,
      "metadata": {
        "colab": {
          "base_uri": "https://localhost:8080/"
        },
        "id": "HN2dsU7pPKlZ",
        "outputId": "cc458691-f6e7-4805-a105-581b15471f8e"
      },
      "outputs": [
        {
          "name": "stdout",
          "output_type": "stream",
          "text": [
            "[1, 4, 9, 16, 25]\n",
            "[5.289999999999999, 32.49, 46.239999999999995, 94.08999999999999, 146.41, 243.35999999999999]\n"
          ]
        }
      ],
      "source": [
        "def square(sample):\n",
        "    \"\"\"Función que calcula los cuadrados de una lista de números.\n",
        "    Parámetros\n",
        "    sample: Es una lista de números\n",
        "    Devuelve una lista con los cuadrados de los números de la lista sample.\n",
        "    \"\"\"\n",
        "    list = []\n",
        "    for i in sample:\n",
        "        list.append(i**2)\n",
        "    return list\n",
        "\n",
        "print(square([1, 2, 3, 4, 5]))\n",
        "print(square([2.3, 5.7, 6.8, 9.7, 12.1, 15.6]))"
      ]
    },
    {
      "cell_type": "code",
      "execution_count": null,
      "metadata": {
        "id": "MA9aWGLCPNA9"
      },
      "outputs": [],
      "source": [
        "def square(*sample):\n",
        "    \"\"\"Función que calcula los cuadrados de una lista de números.\n",
        "    Parámetros\n",
        "    *sample: Es una secuencia de números separados por comas.\n",
        "    Devuelve una lista con los cuadrados de los números de sample.\n",
        "    \"\"\"\n",
        "    list = []\n",
        "    for i in sample:\n",
        "        list.append(i**2)\n",
        "    return list\n",
        "\n",
        "print(square(1, 2, 3, 4, 5))\n",
        "print(square(2.3, 5.7, 6.8, 9.7, 12.1, 15.6))"
      ]
    },
    {
      "cell_type": "markdown",
      "metadata": {
        "id": "_EBnXY_XPSJJ"
      },
      "source": [
        "# Escribir un programa que reciba una cadena de caracteres y devuelva un diccionario con cada palabra que contiene y su frecuencia. Escribir otra función que reciba el diccionario generado con la función anterior y devuelva una tupla con la palabra más repetida y su frecuencia."
      ]
    },
    {
      "cell_type": "code",
      "execution_count": null,
      "metadata": {
        "id": "1lHTHxn_PVyz"
      },
      "outputs": [],
      "source": [
        "def count_words(text):\n",
        "    \"\"\"Función que cuenta el número de veces que aparece cada palabra en un texto.\n",
        "    Parámetros:\n",
        "        - text: Es una cadena de caracteres.\n",
        "    Devuelve: \n",
        "        Un diccionario con pares palabra:frecuencia con las palabras contenidas en el texto y su frecuencia.\n",
        "    \"\"\"\n",
        "    text = text.split()\n",
        "    words = {}\n",
        "    for i in text:\n",
        "        if i in words:\n",
        "            words[i] += 1\n",
        "        else:\n",
        "            words[i] = 1\n",
        "    return words\n",
        "\n",
        "def most_repeated(words):\n",
        "    max_word = ''\n",
        "    max_freq = 0\n",
        "    for word, freq in words.items():\n",
        "        if freq > max_freq:\n",
        "            max_word = word\n",
        "            max_freq = freq\n",
        "    return max_word, max_freq\n",
        "\n",
        "text = 'Como quieres que te quiera si el que quiero que me quiera no me quiere como quiero que me quiera'\n",
        "print(count_words(text))\n",
        "print(most_repeated(count_words(text)))"
      ]
    }
  ],
  "metadata": {
    "colab": {
      "collapsed_sections": [
        "7ErxF3LxHOuG"
      ],
      "provenance": []
    },
    "kernelspec": {
      "display_name": "Python 3.9.5 64-bit",
      "language": "python",
      "name": "python3"
    },
    "language_info": {
      "codemirror_mode": {
        "name": "ipython",
        "version": 3
      },
      "file_extension": ".py",
      "mimetype": "text/x-python",
      "name": "python",
      "nbconvert_exporter": "python",
      "pygments_lexer": "ipython3",
      "version": "3.9.5"
    },
    "vscode": {
      "interpreter": {
        "hash": "b0fa6594d8f4cbf19f97940f81e996739fb7646882a419484c72d19e05852a7e"
      }
    }
  },
  "nbformat": 4,
  "nbformat_minor": 0
}
